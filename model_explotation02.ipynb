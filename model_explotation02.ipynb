{
 "cells": [
  {
   "metadata": {},
   "cell_type": "markdown",
   "source": "# Predictive KPI 02  predicted price",
   "id": "172c89ed08e2e700"
  },
  {
   "metadata": {},
   "cell_type": "markdown",
   "source": "### Import libraries",
   "id": "cee034fe49feb0d5"
  },
  {
   "metadata": {
    "ExecuteTime": {
     "end_time": "2024-06-19T06:47:58.164094Z",
     "start_time": "2024-06-19T06:47:58.159127Z"
    }
   },
   "cell_type": "code",
   "source": [
    "from utils import *\n",
    "\n",
    "from time import strftime, gmtime\n",
    "from datetime import datetime\n",
    "import os\n",
    "from hdfs import InsecureClient\n",
    "\n",
    "import re\n",
    "import os\n",
    "from time import strftime, gmtime\n",
    "from datetime import datetime\n",
    "import shutil\n",
    "\n",
    "import findspark\n",
    "import warnings\n",
    "from pyspark.sql.functions import split, col, avg, count\n",
    "from pyspark.ml.feature import FeatureHasher\n",
    "\n",
    "import pyspark as py\n",
    "from pyspark.sql import SparkSession\n",
    "from pyspark import SparkConf\n",
    "from pyspark.sql.types import StructType, StructField, StringType, IntegerType\n",
    "\n",
    "from pyspark.ml.regression import GeneralizedLinearRegression\n",
    "from pyspark.ml.evaluation import RegressionEvaluator\n",
    "from pyspark.ml.linalg import Vectors\n",
    "from pyspark.ml.feature import VectorAssembler"
   ],
   "id": "417fcc6d7664aa3",
   "outputs": [],
   "execution_count": 40
  },
  {
   "metadata": {},
   "cell_type": "markdown",
   "source": "### Read login information",
   "id": "722f0c5f2a581e21"
  },
  {
   "metadata": {
    "ExecuteTime": {
     "end_time": "2024-06-19T06:47:59.586635Z",
     "start_time": "2024-06-19T06:47:59.578683Z"
    }
   },
   "cell_type": "code",
   "source": [
    "%run utils.py\n",
    "\n",
    "log = log_config(\"My.log\")\n",
    "logging_info = logging_creation()\n",
    "\n",
    "user_name = logging_info[\"user_name\"]\n",
    "host = logging_info[\"host\"]"
   ],
   "id": "20eae3681ecd63eb",
   "outputs": [],
   "execution_count": 41
  },
  {
   "metadata": {},
   "cell_type": "markdown",
   "source": "### Download data from formatted zone",
   "id": "88cc30f8fc6819fb"
  },
  {
   "metadata": {
    "ExecuteTime": {
     "end_time": "2024-06-19T06:48:01.519358Z",
     "start_time": "2024-06-19T06:48:01.511405Z"
    }
   },
   "cell_type": "code",
   "source": [
    "%run data_SelectorsAndFormatters.py\n",
    "\n",
    "inp_path=\"model_temp\"\n",
    "master_files = {\n",
    "    \"hotels\": {\"Description\": \"Information about hotels in neighbourhoods\"},\n",
    "    \"renda_familiar\": {\n",
    "        \"keywords\": [\"renda_familiar\"],\n",
    "        \"Description\": \"Data from Open Barcelona with incomes of families. Can be joined with 'idealista' file using a lookup file\",\n",
    "    },\n",
    "    \"idealista\": {\n",
    "        \"keywords\": [\"idealista\"],\n",
    "        \"Description\": \"Appartments from idealista. Can be joined with 'renta familiar' file using a lookup file\",\n",
    "    },\n",
    "    \"lookup_renta_idealista\": {\n",
    "        \"keywords\": [\"extended\"],\n",
    "        \"Description\": \"Lookup datable to join 'Idealista' and 'renda familiar'\",\n",
    "    },\n",
    "}"
   ],
   "id": "312de00dcea60e70",
   "outputs": [],
   "execution_count": 42
  },
  {
   "metadata": {
    "ExecuteTime": {
     "end_time": "2024-06-19T06:48:11.178607Z",
     "start_time": "2024-06-19T06:48:02.599932Z"
    }
   },
   "cell_type": "code",
   "source": [
    "# Load last versions of all dataframes from explotation zone\n",
    "for key_file in master_files.keys():\n",
    "    formatted_data_selector(log, user_name, host, key_file)"
   ],
   "id": "60349d5b5a048a05",
   "outputs": [],
   "execution_count": 43
  },
  {
   "metadata": {},
   "cell_type": "markdown",
   "source": "### Load dataframes",
   "id": "86b2c4794368606d"
  },
  {
   "metadata": {
    "ExecuteTime": {
     "end_time": "2024-06-19T06:49:00.337569Z",
     "start_time": "2024-06-19T06:49:00.153882Z"
    }
   },
   "cell_type": "code",
   "source": [
    "from pyspark.sql import SparkSession\n",
    "\n",
    "findspark.init(\"/Users/yyf/Documents/Spark\")\n",
    "\n",
    "conf = (\n",
    "    SparkConf()\n",
    "        .set(\"spark.master\", \"local\")\n",
    "        .set(\"spark.app.name\", \"Formatted zone loader\")\n",
    "    )\n",
    "spark = SparkSession.builder.config(conf=conf).getOrCreate()\n",
    "log.info(\"Spark sesion correctly initialized\")\n",
    "\n",
    "# Load all dataframes in a dictionary\n",
    "dfs = {}\n",
    "file_names = os.listdir(inp_path)\n",
    "\n",
    "for file in file_names:\n",
    "    full_in_path = inp_path + \"/\" + file\n",
    "\n",
    "    # Load dataframes\n",
    "    short_name = file.split(\"-\", maxsplit=2)[2]\n",
    "    short_name = \"\".join(short_name)\n",
    "\n",
    "    dfs[short_name] = (\n",
    "            spark.read.option(\"multiline\", \"true\").format(\"parquet\").load(full_in_path)\n",
    "    )\n"
   ],
   "id": "1bb63d8e4e16ae2a",
   "outputs": [],
   "execution_count": 44
  },
  {
   "cell_type": "code",
   "id": "7e411b07f64cf1c3",
   "metadata": {
    "ExecuteTime": {
     "end_time": "2024-06-19T08:16:50.207138Z",
     "start_time": "2024-06-19T08:16:50.038551Z"
    }
   },
   "source": [
    "idealista_path = \"model_temp/20240614-2306-idealista\"\n",
    "df_idealista = spark.read.parquet(idealista_path)\n",
    "df_idealista.show(5)"
   ],
   "outputs": [
    {
     "name": "stdout",
     "output_type": "stream",
     "text": [
      "+------------+--------------------+-----------------+---------+-----+--------+------------+---------+-----+--------+-----+---------+--------------------+---------+--------------------+------------------+-------+----------+---------+-----------+--------------------+--------+--------+------+--------------+-------+-----------+--------------------+--------------------+-------+---------+------+----------+-----------------+----------------------+------------------+------------+---------------------------------------------------------------------------------------------------------------------------+\n",
      "|propertyCode|           thumbnail|externalReference|numPhotos|floor|   price|propertyType|operation| size|exterior|rooms|bathrooms|             address| province|        municipality|          district|country|  latitude|longitude|showAddress|                 url|distance|hasVideo|status|newDevelopment|hasLift|priceByArea|        detailedType|      suggestedTexts|hasPlan|has3DTour|has360|hasStaging|topNewDevelopment|newDevelopmentFinished|      parkingSpace|neighborhood|district,neighborhood,district_n_reconciled,district_n,district_id,neighborhood_n_reconciled,neighborhood_n,neighborhood_id|\n",
      "+------------+--------------------+-----------------+---------+-----+--------+------------+---------+-----+--------+-----+---------+--------------------+---------+--------------------+------------------+-------+----------+---------+-----------+--------------------+--------+--------+------+--------------+-------+-----------+--------------------+--------------------+-------+---------+------+----------+-----------------+----------------------+------------------+------------+---------------------------------------------------------------------------------------------------------------------------+\n",
      "|    92052133|https://img3.idea...|          GV36322|        7|    3|149500.0|        flat|     sale| 58.0|   false|    3|        1|              Centre|Barcelona|El Prat de Llobregat|            Centre|     es|41.3237179|  2.09247|      false|https://www.ideal...|    1318|   false|  good|         false|   NULL|     2578.0|        {NULL, flat}|{Centre, El Prat ...|  false|    false| false|     false|            false|                  NULL|              NULL|        NULL|                                                                                                                       NULL|\n",
      "|    93200786|https://img3.idea...|             6077|       15|    2|445000.0|      duplex|     sale|158.0|    true|    3|        2|              Centre|Barcelona|El Prat de Llobregat|            Centre|     es| 41.330251| 2.095765|      false|https://www.ideal...|    1680|   false|  good|         false|   true|     2816.0|      {duplex, flat}|{Centre, El Prat ...|  false|    false| false|     false|            false|                  NULL|{true, true, NULL}|        NULL|                                                                                                                       NULL|\n",
      "|    85714343|https://img3.idea...|           Pintor|       46| NULL|545000.0|      chalet|     sale|215.0|   false|    4|        4|Pintor Isidre Nonell|Barcelona|El Prat de Llobregat|            Centre|     es| 41.329868|2.0997681|      false|https://www.ideal...|    1505|   false|  good|         false|   NULL|     2535.0|{terracedHouse, c...|{Centre, El Prat ...|  false|    false| false|     false|            false|                  NULL|{true, true, NULL}|        NULL|                                                                                                                       NULL|\n",
      "|    91909706|https://img3.idea...|             1342|       16|    3|222000.0|        flat|     sale| 89.0|    true|    3|        1|  Plaça de Catalunya|Barcelona|El Prat de Llobregat|Plaça de Catalunya|     es|41.3199737|2.0920274|      false|https://www.ideal...|    1172|   false|  good|         false|   true|     2494.0|        {NULL, flat}|{Plaça de Catalun...|  false|    false| false|     false|            false|                  NULL|              NULL|        NULL|                                                                                                                       NULL|\n",
      "|    92580550|https://img3.idea...|        BA - 0103|        9|    1|260000.0|        flat|     sale|100.0|    true|    4|        2|  Plaza Pablo neruda|Barcelona|El Prat de Llobregat|          Eixample|     es|41.3253814|2.1023603|      false|https://www.ideal...|     964|   false|  good|         false|   true|     2600.0|        {NULL, flat}|{Eixample, El Pra...|  false|    false| false|     false|            false|                  NULL|              NULL|        NULL|                                                                                                                       NULL|\n",
      "+------------+--------------------+-----------------+---------+-----+--------+------------+---------+-----+--------+-----+---------+--------------------+---------+--------------------+------------------+-------+----------+---------+-----------+--------------------+--------+--------+------+--------------+-------+-----------+--------------------+--------------------+-------+---------+------+----------+-----------------+----------------------+------------------+------------+---------------------------------------------------------------------------------------------------------------------------+\n",
      "only showing top 5 rows\n",
      "\n"
     ]
    }
   ],
   "execution_count": 63
  },
  {
   "metadata": {},
   "cell_type": "markdown",
   "source": "### to explore the data",
   "id": "f2a4a5d282f0f55c"
  },
  {
   "cell_type": "code",
   "id": "ec524f9c6fed3bf9",
   "metadata": {
    "ExecuteTime": {
     "end_time": "2024-06-19T06:49:13.833970Z",
     "start_time": "2024-06-19T06:49:13.830873Z"
    }
   },
   "source": [
    "column_names = df_idealista.columns\n",
    "print(column_names)"
   ],
   "outputs": [
    {
     "name": "stdout",
     "output_type": "stream",
     "text": [
      "['propertyCode', 'thumbnail', 'externalReference', 'numPhotos', 'floor', 'price', 'propertyType', 'operation', 'size', 'exterior', 'rooms', 'bathrooms', 'address', 'province', 'municipality', 'district', 'country', 'latitude', 'longitude', 'showAddress', 'url', 'distance', 'hasVideo', 'status', 'newDevelopment', 'hasLift', 'priceByArea', 'detailedType', 'suggestedTexts', 'hasPlan', 'has3DTour', 'has360', 'hasStaging', 'topNewDevelopment', 'newDevelopmentFinished', 'parkingSpace', 'neighborhood', 'district,neighborhood,district_n_reconciled,district_n,district_id,neighborhood_n_reconciled,neighborhood_n,neighborhood_id']\n"
     ]
    }
   ],
   "execution_count": 47
  },
  {
   "metadata": {
    "ExecuteTime": {
     "end_time": "2024-06-19T06:49:15.157292Z",
     "start_time": "2024-06-19T06:49:15.085968Z"
    }
   },
   "cell_type": "code",
   "source": [
    "unique_operations = df_idealista.select(\"operation\").distinct()\n",
    "unique_operations.show()"
   ],
   "id": "4577eed48cf2e41c",
   "outputs": [
    {
     "name": "stdout",
     "output_type": "stream",
     "text": [
      "+---------+\n",
      "|operation|\n",
      "+---------+\n",
      "|     sale|\n",
      "|     NULL|\n",
      "+---------+\n",
      "\n"
     ]
    }
   ],
   "execution_count": 48
  },
  {
   "metadata": {
    "ExecuteTime": {
     "end_time": "2024-06-19T06:49:17.236645Z",
     "start_time": "2024-06-19T06:49:17.163506Z"
    }
   },
   "cell_type": "code",
   "source": [
    "unique_operations = df_idealista.select(\"propertyType\").distinct()\n",
    "unique_operations.show()"
   ],
   "id": "ea2c971a43d2438f",
   "outputs": [
    {
     "name": "stdout",
     "output_type": "stream",
     "text": [
      "+------------+\n",
      "|propertyType|\n",
      "+------------+\n",
      "|   penthouse|\n",
      "|      duplex|\n",
      "|      studio|\n",
      "|      chalet|\n",
      "|        flat|\n",
      "|countryHouse|\n",
      "|        NULL|\n",
      "+------------+\n",
      "\n"
     ]
    }
   ],
   "execution_count": 49
  },
  {
   "metadata": {
    "ExecuteTime": {
     "end_time": "2024-06-19T06:45:35.971578Z",
     "start_time": "2024-06-19T06:45:35.894070Z"
    }
   },
   "cell_type": "code",
   "source": [
    "unique_operations = df_idealista.select(\"exterior\").distinct()\n",
    "unique_operations.show()"
   ],
   "id": "c9aba318486819af",
   "outputs": [
    {
     "name": "stdout",
     "output_type": "stream",
     "text": [
      "+--------+\n",
      "|exterior|\n",
      "+--------+\n",
      "|    true|\n",
      "|   false|\n",
      "|    NULL|\n",
      "+--------+\n",
      "\n"
     ]
    }
   ],
   "execution_count": 28
  },
  {
   "metadata": {
    "ExecuteTime": {
     "end_time": "2024-06-19T06:45:36.683128Z",
     "start_time": "2024-06-19T06:45:36.589552Z"
    }
   },
   "cell_type": "code",
   "source": [
    "unique_operations = df_idealista.select(\"district\").distinct()\n",
    "unique_operations.show()"
   ],
   "id": "48aaacb02b589b01",
   "outputs": [
    {
     "name": "stdout",
     "output_type": "stream",
     "text": [
      "+--------------------+\n",
      "|            district|\n",
      "+--------------------+\n",
      "|La Miranda - Can ...|\n",
      "|           Collblanc|\n",
      "|           Can Matas|\n",
      "|                Golf|\n",
      "|              Gràcia|\n",
      "|            El Pedró|\n",
      "|La Florida - Les ...|\n",
      "|             El Gall|\n",
      "|          Sant Martí|\n",
      "| Roses - Castellbell|\n",
      "|    Parc Empresarial|\n",
      "|         Can Vidalet|\n",
      "|       Can Sant Joan|\n",
      "|Camps Blancs - Ca...|\n",
      "|           Les Corts|\n",
      "|         Granvia L-H|\n",
      "|              Almeda|\n",
      "|Sant Francesc-El ...|\n",
      "|       Sant Ildefons|\n",
      "|Mas Lluí - Els Mi...|\n",
      "+--------------------+\n",
      "only showing top 20 rows\n",
      "\n"
     ]
    }
   ],
   "execution_count": 29
  },
  {
   "metadata": {
    "ExecuteTime": {
     "end_time": "2024-06-19T06:45:37.436776Z",
     "start_time": "2024-06-19T06:45:37.349977Z"
    }
   },
   "cell_type": "code",
   "source": [
    "unique_operations = df_idealista.select(\"status\").distinct()\n",
    "unique_operations.show()"
   ],
   "id": "6160e86f00914f54",
   "outputs": [
    {
     "name": "stdout",
     "output_type": "stream",
     "text": [
      "+--------------+\n",
      "|        status|\n",
      "+--------------+\n",
      "|         renew|\n",
      "|newdevelopment|\n",
      "|          good|\n",
      "|          NULL|\n",
      "+--------------+\n",
      "\n"
     ]
    }
   ],
   "execution_count": 30
  },
  {
   "metadata": {
    "ExecuteTime": {
     "end_time": "2024-06-19T06:45:38.201369Z",
     "start_time": "2024-06-19T06:45:38.132515Z"
    }
   },
   "cell_type": "code",
   "source": [
    "unique_operations = df_idealista.select(\"bathrooms\").distinct()\n",
    "unique_operations.show()"
   ],
   "id": "ef261e8564fec36",
   "outputs": [
    {
     "name": "stdout",
     "output_type": "stream",
     "text": [
      "+---------+\n",
      "|bathrooms|\n",
      "+---------+\n",
      "|       19|\n",
      "|        0|\n",
      "|        7|\n",
      "|        6|\n",
      "|        9|\n",
      "|        5|\n",
      "|        1|\n",
      "|       10|\n",
      "|        3|\n",
      "|        8|\n",
      "|       11|\n",
      "|        2|\n",
      "|        4|\n",
      "|     NULL|\n",
      "+---------+\n",
      "\n"
     ]
    }
   ],
   "execution_count": 31
  },
  {
   "metadata": {},
   "cell_type": "markdown",
   "source": "## Preprocessing",
   "id": "80946e2b025fb2"
  },
  {
   "metadata": {
    "ExecuteTime": {
     "end_time": "2024-06-19T06:49:39.391733Z",
     "start_time": "2024-06-19T06:49:38.962789Z"
    }
   },
   "cell_type": "code",
   "source": [
    "from pyspark.sql.functions import col\n",
    "from pyspark.ml.feature import VectorAssembler, StringIndexer, OneHotEncoder\n",
    "\n",
    "# Drop duplicates\n",
    "df_idealista = df_idealista.dropDuplicates()\n",
    "\n",
    "# Prepare the DataFrame\n",
    "df_idealista = df_idealista.dropna(subset=['price', 'size', 'rooms', 'bathrooms', 'status', 'exterior'])\n",
    "df_idealista = df_idealista.withColumn(\"price\", col(\"price\").cast(\"double\")) \\\n",
    "                           .withColumn(\"size\", col(\"size\").cast(\"double\")) \\\n",
    "                           .withColumn(\"rooms\", col(\"rooms\").cast(\"integer\")) \\\n",
    "                           .withColumn(\"bathrooms\", col(\"bathrooms\").cast(\"integer\")) \\\n",
    "                           .withColumn(\"exterior\", col(\"exterior\").cast(\"integer\"))   # exterior: true is mapped to 1 and false is mapped to 0\n",
    "\n",
    "# StringIndexer and OneHotEncoder for 'status'\n",
    "# Ensure no column name conflicts\n",
    "if \"status_indexed\" in df_idealista.columns:\n",
    "    df_idealista = df_idealista.drop(\"status_indexed\")\n",
    "status_indexer = StringIndexer(inputCol=\"status\", outputCol=\"status_indexed\")\n",
    "df_idealista = status_indexer.fit(df_idealista).transform(df_idealista)\n",
    "\n",
    "if \"status_encoded\" in df_idealista.columns:\n",
    "    df_idealista = df_idealista.drop(\"status_encoded\")\n",
    "status_encoder = OneHotEncoder(inputCols=[\"status_indexed\"], outputCols=[\"status_encoded\"])\n",
    "df_idealista = status_encoder.fit(df_idealista).transform(df_idealista)\n",
    "\n",
    "\n",
    "\n",
    "if \"features\" in df_idealista.columns:\n",
    "    df_idealista = df_idealista.drop(\"features\")\n",
    "assembler = VectorAssembler(inputCols=[\"size\", \"rooms\", \"bathrooms\", \"status_encoded\", \"exterior\"], outputCol=\"features\")\n",
    "df_idealista = assembler.transform(df_idealista)\n"
   ],
   "id": "289fbd839c1c1f72",
   "outputs": [],
   "execution_count": 50
  },
  {
   "metadata": {
    "ExecuteTime": {
     "end_time": "2024-06-19T07:19:35.109518Z",
     "start_time": "2024-06-19T07:19:35.057726Z"
    }
   },
   "cell_type": "code",
   "source": [
    "# Select the specific columns to create a new DataFrame\n",
    "dfs2 = df_idealista.select(\"price\", \"size\", \"rooms\", \"bathrooms\", \"status\", \"exterior\")"
   ],
   "id": "ee004ccf0f79982b",
   "outputs": [],
   "execution_count": 59
  },
  {
   "metadata": {},
   "cell_type": "markdown",
   "source": "### Upload preprocessed dataframe to the explotation zone",
   "id": "163ce68c8703708b"
  },
  {
   "metadata": {
    "ExecuteTime": {
     "end_time": "2024-06-19T07:19:37.367845Z",
     "start_time": "2024-06-19T07:19:37.365058Z"
    }
   },
   "cell_type": "code",
   "source": [
    "model_name = \"LM_V2.parquet\"\n",
    "explotation_zone_path = \"user/bdm/Model_explotation_zone\""
   ],
   "id": "2ad082ec15dbc5a1",
   "outputs": [],
   "execution_count": 60
  },
  {
   "metadata": {
    "ExecuteTime": {
     "end_time": "2024-06-19T07:19:43.695278Z",
     "start_time": "2024-06-19T07:19:39.905535Z"
    }
   },
   "cell_type": "code",
   "source": [
    "hdfs_client = InsecureClient(host, user=user_name)\n",
    "out_full_path = explotation_zone_path + \"/\" + model_name \n",
    "\n",
    "dfs2.write.mode('overwrite').parquet(model_name)\n",
    "hdfs_client.upload(out_full_path, model_name, overwrite=True)\n",
    "\n",
    "log.info(f\"Model {file} uploaded correctly at '{out_full_path}' path\")"
   ],
   "id": "e77b1163235018a9",
   "outputs": [],
   "execution_count": 61
  },
  {
   "metadata": {},
   "cell_type": "markdown",
   "source": "# Model",
   "id": "ed9c807f878a4dc2"
  },
  {
   "metadata": {},
   "cell_type": "markdown",
   "source": [
    "## the final model\n",
    "\n",
    "without scaling the size "
   ],
   "id": "5b80992ab85180c6"
  },
  {
   "metadata": {
    "ExecuteTime": {
     "end_time": "2024-06-19T06:53:16.284587Z",
     "start_time": "2024-06-19T06:53:14.074721Z"
    }
   },
   "cell_type": "code",
   "source": [
    "from pyspark.ml.regression import LinearRegression\n",
    "from pyspark.ml.evaluation import RegressionEvaluator\n",
    "\n",
    "# Linear Regression Model\n",
    "lr = LinearRegression(featuresCol=\"features\", labelCol=\"price\")\n",
    "\n",
    "# Data split for training and testing\n",
    "train_data, test_data = df_idealista.randomSplit([0.8, 0.2], seed=1234)\n",
    "\n",
    "# Model training\n",
    "lr_model = lr.fit(train_data)\n",
    "\n",
    "# Making predictions\n",
    "predictions = lr_model.transform(test_data)\n",
    "\n",
    "# Model evaluation\n",
    "evaluator = RegressionEvaluator(labelCol=\"price\", predictionCol=\"prediction\", metricName=\"rmse\")\n",
    "rmse = evaluator.evaluate(predictions)\n",
    "print(\"Root Mean Squared Error (RMSE) on test data = %g\" % rmse)\n",
    "\n",
    "# Displaying coefficients\n",
    "coefficients = lr_model.coefficients\n",
    "print(\"Coefficients:\", coefficients)"
   ],
   "id": "c94ad2e0debf2bc0",
   "outputs": [
    {
     "name": "stdout",
     "output_type": "stream",
     "text": [
      "Root Mean Squared Error (RMSE) on test data = 381345\n",
      "Coefficients: [0.5304752989772031,40571.224435326534,390222.5468879523,149407.88715313052,187116.91742226458,-8371.780164923639]\n"
     ]
    }
   ],
   "execution_count": 58
  },
  {
   "metadata": {
    "ExecuteTime": {
     "end_time": "2024-06-16T10:32:40.748766Z",
     "start_time": "2024-06-16T10:32:34.629909Z"
    }
   },
   "cell_type": "code",
   "source": [
    "# # Scaling\n",
    "# # We used the same method below with scaling. but chose to unscale all variables for ease of interpretation.\n",
    "# from pyspark.sql.functions import col\n",
    "# from pyspark.ml.feature import VectorAssembler, StringIndexer, OneHotEncoder, StandardScaler\n",
    "# from pyspark.ml.regression import LinearRegression\n",
    "# from pyspark.ml.evaluation import RegressionEvaluator\n",
    "# \n",
    "# # Drop duplicates based on all columns (if rows are completely identical)\n",
    "# df_idealista = df_idealista.dropDuplicates()\n",
    "# \n",
    "# # Prepare the DataFrame\n",
    "# df_idealista = df_idealista.dropna(subset=['price', 'size', 'rooms', 'bathrooms', 'status', 'exterior'])\n",
    "# df_idealista = df_idealista.withColumn(\"price\", col(\"price\").cast(\"double\")) \\\n",
    "#                            .withColumn(\"size\", col(\"size\").cast(\"double\")) \\\n",
    "#                            .withColumn(\"rooms\", col(\"rooms\").cast(\"integer\")) \\\n",
    "#                            .withColumn(\"bathrooms\", col(\"bathrooms\").cast(\"integer\")) \\\n",
    "#                            .withColumn(\"exterior\", col(\"exterior\").cast(\"integer\"))\n",
    "# \n",
    "# \n",
    "# # StringIndexer and OneHotEncoder for 'status'\n",
    "# if \"status_indexed\" in df_idealista.columns:\n",
    "#     df_idealista = df_idealista.drop(\"status_indexed\")\n",
    "# status_indexer = StringIndexer(inputCol=\"status\", outputCol=\"status_indexed\")\n",
    "# df_idealista = status_indexer.fit(df_idealista).transform(df_idealista)\n",
    "# \n",
    "# if \"status_encoded\" in df_idealista.columns:\n",
    "#     df_idealista = df_idealista.drop(\"status_encoded\")\n",
    "# status_encoder = OneHotEncoder(inputCols=[\"status_indexed\"], outputCols=[\"status_encoded\"])\n",
    "# df_idealista = status_encoder.fit(df_idealista).transform(df_idealista)\n",
    "# \n",
    "# # Scale only the 'size' feature\n",
    "# if \"size_features\" in df_idealista.columns:\n",
    "#     df_idealista = df_idealista.drop(\"size_features\")\n",
    "# size_assembler = VectorAssembler(inputCols=[\"size\"], outputCol=\"size_features\")\n",
    "# size_df = size_assembler.transform(df_idealista)\n",
    "# \n",
    "# if \"scaled_size\" in df_idealista.columns:\n",
    "#     df_idealista = df_idealista.drop(\"scaled_size\")\n",
    "# scaler = StandardScaler(inputCol=\"size_features\", outputCol=\"scaled_size\", withStd=True, withMean=False)\n",
    "# df_idealista = scaler.fit(size_df).transform(size_df)\n",
    "# \n",
    "# # Assemble other features\n",
    "# if \"other_features\" in df_idealista.columns:\n",
    "#     df_idealista = df_idealista.drop(\"other_features\")\n",
    "# other_features_assembler = VectorAssembler(inputCols=[\"rooms\", \"bathrooms\", \"status_encoded\", \"exterior\"], outputCol=\"other_features\")\n",
    "# df_idealista = other_features_assembler.transform(df_idealista)\n",
    "# \n",
    "# # Combine scaled size with other features\n",
    "# if \"features\" in df_idealista.columns:\n",
    "#     df_idealista = df_idealista.drop(\"features\")\n",
    "# final_assembler = VectorAssembler(inputCols=[\"scaled_size\", \"other_features\"], outputCol=\"features\")\n",
    "# df_idealista = final_assembler.transform(df_idealista)\n",
    "# \n",
    "# # Linear Regression Model using combined features\n",
    "# lr = LinearRegression(featuresCol=\"features\", labelCol=\"price\")\n",
    "# \n",
    "# # Split the data\n",
    "# train_data, test_data = df_idealista.randomSplit([0.8, 0.2], seed=1234)\n",
    "# \n",
    "# # Train the model\n",
    "# lr_model = lr.fit(train_data)\n",
    "# \n",
    "# # Make predictions\n",
    "# predictions = lr_model.transform(test_data)\n",
    "# \n",
    "# # Evaluate the model\n",
    "# evaluator = RegressionEvaluator(labelCol=\"price\", predictionCol=\"prediction\", metricName=\"rmse\")\n",
    "# rmse = evaluator.evaluate(predictions)\n",
    "# print(\"Root Mean Squared Error (RMSE) on test data = %g\" % rmse)\n",
    "# \n",
    "# # Display coefficients\n",
    "# coefficients = lr_model.coefficients\n",
    "# print(\"Coefficients:\", coefficients)"
   ],
   "id": "84561ac656732e7",
   "outputs": [
    {
     "name": "stdout",
     "output_type": "stream",
     "text": [
      "Root Mean Squared Error (RMSE) on test data = 402209\n",
      "Coefficients: [774.4352699404948,37961.09367814587,383370.4673475959,141776.6014140781,178639.25549421436,-8690.246685712456]\n"
     ]
    }
   ],
   "execution_count": 64
  }
 ],
 "metadata": {
  "kernelspec": {
   "display_name": "Python 3",
   "language": "python",
   "name": "python3"
  },
  "language_info": {
   "codemirror_mode": {
    "name": "ipython",
    "version": 2
   },
   "file_extension": ".py",
   "mimetype": "text/x-python",
   "name": "python",
   "nbconvert_exporter": "python",
   "pygments_lexer": "ipython2",
   "version": "2.7.6"
  }
 },
 "nbformat": 4,
 "nbformat_minor": 5
}
