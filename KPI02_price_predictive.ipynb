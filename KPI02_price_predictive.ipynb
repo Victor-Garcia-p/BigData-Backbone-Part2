{
 "cells": [
  {
   "cell_type": "code",
   "id": "43e57343f30ed9a",
   "metadata": {
    "ExecuteTime": {
     "end_time": "2024-06-16T09:20:39.238431Z",
     "start_time": "2024-06-16T09:20:39.206167Z"
    }
   },
   "source": [
    "# import os\n",
    "# os.environ['PYSPARK_PYTHON'] = 'python3.11'\n",
    "# os.environ['PYSPARK_DRIVER_PYTHON'] = 'python3.11'\n",
    "\n",
    "from pyspark.sql import SparkSession\n",
    "\n",
    "spark = SparkSession.builder.appName(\"HouseRentPrediction\").config(\"spark.driver.host\", \"10.48.200.233\") .getOrCreate() # Use the local IP address\n",
    "\n",
    " \n",
    "# Set the log level to ERROR\n",
    "spark.sparkContext.setLogLevel(\"ERROR\")"
   ],
   "outputs": [],
   "execution_count": 26
  },
  {
   "cell_type": "code",
   "id": "7e411b07f64cf1c3",
   "metadata": {
    "ExecuteTime": {
     "end_time": "2024-06-16T09:20:44.456569Z",
     "start_time": "2024-06-16T09:20:44.314660Z"
    }
   },
   "source": [
    "idealista_path = \"model_temp/20240614-2306-idealista\"\n",
    "df_idealista = spark.read.parquet(idealista_path)\n",
    "df_idealista.show(5)"
   ],
   "outputs": [
    {
     "name": "stdout",
     "output_type": "stream",
     "text": [
      "+------------+--------------------+-----------------+---------+-----+--------+------------+---------+-----+--------+-----+---------+--------------------+---------+--------------------+------------------+-------+----------+---------+-----------+--------------------+--------+--------+------+--------------+-------+-----------+--------------------+--------------------+-------+---------+------+----------+-----------------+----------------------+------------------+------------+---------------------------------------------------------------------------------------------------------------------------+\n",
      "|propertyCode|           thumbnail|externalReference|numPhotos|floor|   price|propertyType|operation| size|exterior|rooms|bathrooms|             address| province|        municipality|          district|country|  latitude|longitude|showAddress|                 url|distance|hasVideo|status|newDevelopment|hasLift|priceByArea|        detailedType|      suggestedTexts|hasPlan|has3DTour|has360|hasStaging|topNewDevelopment|newDevelopmentFinished|      parkingSpace|neighborhood|district,neighborhood,district_n_reconciled,district_n,district_id,neighborhood_n_reconciled,neighborhood_n,neighborhood_id|\n",
      "+------------+--------------------+-----------------+---------+-----+--------+------------+---------+-----+--------+-----+---------+--------------------+---------+--------------------+------------------+-------+----------+---------+-----------+--------------------+--------+--------+------+--------------+-------+-----------+--------------------+--------------------+-------+---------+------+----------+-----------------+----------------------+------------------+------------+---------------------------------------------------------------------------------------------------------------------------+\n",
      "|    92052133|https://img3.idea...|          GV36322|        7|    3|149500.0|        flat|     sale| 58.0|   false|    3|        1|              Centre|Barcelona|El Prat de Llobregat|            Centre|     es|41.3237179|  2.09247|      false|https://www.ideal...|    1318|   false|  good|         false|   NULL|     2578.0|        {NULL, flat}|{Centre, El Prat ...|  false|    false| false|     false|            false|                  NULL|              NULL|        NULL|                                                                                                                       NULL|\n",
      "|    93200786|https://img3.idea...|             6077|       15|    2|445000.0|      duplex|     sale|158.0|    true|    3|        2|              Centre|Barcelona|El Prat de Llobregat|            Centre|     es| 41.330251| 2.095765|      false|https://www.ideal...|    1680|   false|  good|         false|   true|     2816.0|      {duplex, flat}|{Centre, El Prat ...|  false|    false| false|     false|            false|                  NULL|{true, true, NULL}|        NULL|                                                                                                                       NULL|\n",
      "|    85714343|https://img3.idea...|           Pintor|       46| NULL|545000.0|      chalet|     sale|215.0|   false|    4|        4|Pintor Isidre Nonell|Barcelona|El Prat de Llobregat|            Centre|     es| 41.329868|2.0997681|      false|https://www.ideal...|    1505|   false|  good|         false|   NULL|     2535.0|{terracedHouse, c...|{Centre, El Prat ...|  false|    false| false|     false|            false|                  NULL|{true, true, NULL}|        NULL|                                                                                                                       NULL|\n",
      "|    91909706|https://img3.idea...|             1342|       16|    3|222000.0|        flat|     sale| 89.0|    true|    3|        1|  Plaça de Catalunya|Barcelona|El Prat de Llobregat|Plaça de Catalunya|     es|41.3199737|2.0920274|      false|https://www.ideal...|    1172|   false|  good|         false|   true|     2494.0|        {NULL, flat}|{Plaça de Catalun...|  false|    false| false|     false|            false|                  NULL|              NULL|        NULL|                                                                                                                       NULL|\n",
      "|    92580550|https://img3.idea...|        BA - 0103|        9|    1|260000.0|        flat|     sale|100.0|    true|    4|        2|  Plaza Pablo neruda|Barcelona|El Prat de Llobregat|          Eixample|     es|41.3253814|2.1023603|      false|https://www.ideal...|     964|   false|  good|         false|   true|     2600.0|        {NULL, flat}|{Eixample, El Pra...|  false|    false| false|     false|            false|                  NULL|              NULL|        NULL|                                                                                                                       NULL|\n",
      "+------------+--------------------+-----------------+---------+-----+--------+------------+---------+-----+--------+-----+---------+--------------------+---------+--------------------+------------------+-------+----------+---------+-----------+--------------------+--------+--------+------+--------------+-------+-----------+--------------------+--------------------+-------+---------+------+----------+-----------------+----------------------+------------------+------------+---------------------------------------------------------------------------------------------------------------------------+\n",
      "only showing top 5 rows\n",
      "\n"
     ]
    }
   ],
   "execution_count": 27
  },
  {
   "metadata": {},
   "cell_type": "markdown",
   "source": "## to explore the data",
   "id": "f2a4a5d282f0f55c"
  },
  {
   "cell_type": "code",
   "id": "ec524f9c6fed3bf9",
   "metadata": {
    "ExecuteTime": {
     "end_time": "2024-06-16T09:20:44.753452Z",
     "start_time": "2024-06-16T09:20:44.751061Z"
    }
   },
   "source": [
    "column_names = df_idealista.columns\n",
    "print(column_names)"
   ],
   "outputs": [
    {
     "name": "stdout",
     "output_type": "stream",
     "text": [
      "['propertyCode', 'thumbnail', 'externalReference', 'numPhotos', 'floor', 'price', 'propertyType', 'operation', 'size', 'exterior', 'rooms', 'bathrooms', 'address', 'province', 'municipality', 'district', 'country', 'latitude', 'longitude', 'showAddress', 'url', 'distance', 'hasVideo', 'status', 'newDevelopment', 'hasLift', 'priceByArea', 'detailedType', 'suggestedTexts', 'hasPlan', 'has3DTour', 'has360', 'hasStaging', 'topNewDevelopment', 'newDevelopmentFinished', 'parkingSpace', 'neighborhood', 'district,neighborhood,district_n_reconciled,district_n,district_id,neighborhood_n_reconciled,neighborhood_n,neighborhood_id']\n"
     ]
    }
   ],
   "execution_count": 28
  },
  {
   "metadata": {
    "ExecuteTime": {
     "end_time": "2024-06-16T09:27:09.384872Z",
     "start_time": "2024-06-16T09:27:08.959627Z"
    }
   },
   "cell_type": "code",
   "source": [
    "unique_operations = df_idealista.select(\"operation\").distinct()\n",
    "unique_operations.show()"
   ],
   "id": "4577eed48cf2e41c",
   "outputs": [
    {
     "name": "stdout",
     "output_type": "stream",
     "text": [
      "+---------+\n",
      "|operation|\n",
      "+---------+\n",
      "|     sale|\n",
      "+---------+\n",
      "\n"
     ]
    }
   ],
   "execution_count": 37
  },
  {
   "metadata": {
    "ExecuteTime": {
     "end_time": "2024-06-16T09:29:20.935692Z",
     "start_time": "2024-06-16T09:29:20.760307Z"
    }
   },
   "cell_type": "code",
   "source": [
    "unique_operations = df_idealista.select(\"propertyType\").distinct()\n",
    "unique_operations.show()"
   ],
   "id": "ea2c971a43d2438f",
   "outputs": [
    {
     "name": "stdout",
     "output_type": "stream",
     "text": [
      "+------------+\n",
      "|propertyType|\n",
      "+------------+\n",
      "|   penthouse|\n",
      "|      duplex|\n",
      "|      studio|\n",
      "|      chalet|\n",
      "|        flat|\n",
      "|countryHouse|\n",
      "+------------+\n",
      "\n"
     ]
    }
   ],
   "execution_count": 38
  },
  {
   "metadata": {
    "ExecuteTime": {
     "end_time": "2024-06-16T09:30:00.161730Z",
     "start_time": "2024-06-16T09:30:00.007152Z"
    }
   },
   "cell_type": "code",
   "source": [
    "unique_operations = df_idealista.select(\"exterior\").distinct()\n",
    "unique_operations.show()"
   ],
   "id": "c9aba318486819af",
   "outputs": [
    {
     "name": "stdout",
     "output_type": "stream",
     "text": [
      "+--------+\n",
      "|exterior|\n",
      "+--------+\n",
      "|    true|\n",
      "|   false|\n",
      "+--------+\n",
      "\n"
     ]
    }
   ],
   "execution_count": 39
  },
  {
   "metadata": {
    "ExecuteTime": {
     "end_time": "2024-06-16T09:30:53.895711Z",
     "start_time": "2024-06-16T09:30:53.731837Z"
    }
   },
   "cell_type": "code",
   "source": [
    "unique_operations = df_idealista.select(\"district\").distinct()\n",
    "unique_operations.show()"
   ],
   "id": "48aaacb02b589b01",
   "outputs": [
    {
     "name": "stdout",
     "output_type": "stream",
     "text": [
      "+--------------------+\n",
      "|            district|\n",
      "+--------------------+\n",
      "|La Miranda - Can ...|\n",
      "|           Collblanc|\n",
      "|           Can Matas|\n",
      "|                Golf|\n",
      "|              Gràcia|\n",
      "|            El Pedró|\n",
      "|La Florida - Les ...|\n",
      "|             El Gall|\n",
      "|          Sant Martí|\n",
      "| Roses - Castellbell|\n",
      "|    Parc Empresarial|\n",
      "|         Can Vidalet|\n",
      "|       Can Sant Joan|\n",
      "|Camps Blancs - Ca...|\n",
      "|           Les Corts|\n",
      "|         Granvia L-H|\n",
      "|              Almeda|\n",
      "|Sant Francesc-El ...|\n",
      "|       Sant Ildefons|\n",
      "|Mas Lluí - Els Mi...|\n",
      "+--------------------+\n",
      "only showing top 20 rows\n",
      "\n"
     ]
    }
   ],
   "execution_count": 40
  },
  {
   "metadata": {
    "ExecuteTime": {
     "end_time": "2024-06-16T09:34:32.734372Z",
     "start_time": "2024-06-16T09:34:32.566999Z"
    }
   },
   "cell_type": "code",
   "source": [
    "unique_operations = df_idealista.select(\"status\").distinct()\n",
    "unique_operations.show()"
   ],
   "id": "6160e86f00914f54",
   "outputs": [
    {
     "name": "stdout",
     "output_type": "stream",
     "text": [
      "+--------------+\n",
      "|        status|\n",
      "+--------------+\n",
      "|         renew|\n",
      "|newdevelopment|\n",
      "|          good|\n",
      "|          NULL|\n",
      "+--------------+\n",
      "\n"
     ]
    }
   ],
   "execution_count": 41
  },
  {
   "metadata": {
    "ExecuteTime": {
     "end_time": "2024-06-16T10:20:15.569849Z",
     "start_time": "2024-06-16T10:20:15.391294Z"
    }
   },
   "cell_type": "code",
   "source": [
    "unique_operations = df_idealista.select(\"bathrooms\").distinct()\n",
    "unique_operations.show()"
   ],
   "id": "ef261e8564fec36",
   "outputs": [
    {
     "name": "stdout",
     "output_type": "stream",
     "text": [
      "+---------+\n",
      "|bathrooms|\n",
      "+---------+\n",
      "|      8.0|\n",
      "|      0.0|\n",
      "|      7.0|\n",
      "|      1.0|\n",
      "|      4.0|\n",
      "|     11.0|\n",
      "|      3.0|\n",
      "|     19.0|\n",
      "|      2.0|\n",
      "|     10.0|\n",
      "|      6.0|\n",
      "|      5.0|\n",
      "|      9.0|\n",
      "+---------+\n",
      "\n"
     ]
    }
   ],
   "execution_count": 57
  },
  {
   "metadata": {},
   "cell_type": "markdown",
   "source": "# Model",
   "id": "ed9c807f878a4dc2"
  },
  {
   "metadata": {},
   "cell_type": "markdown",
   "source": "Linear Regression with categorical variables. ",
   "id": "ec2366c798a02feb"
  },
  {
   "metadata": {},
   "cell_type": "markdown",
   "source": [
    "## the final model\n",
    "\n",
    "without scaling the size "
   ],
   "id": "5b80992ab85180c6"
  },
  {
   "metadata": {
    "ExecuteTime": {
     "end_time": "2024-06-16T10:45:08.145336Z",
     "start_time": "2024-06-16T10:45:02.264277Z"
    }
   },
   "cell_type": "code",
   "source": [
    "from pyspark.sql.functions import col\n",
    "from pyspark.ml.feature import VectorAssembler, StringIndexer, OneHotEncoder\n",
    "from pyspark.ml.regression import LinearRegression\n",
    "from pyspark.ml.evaluation import RegressionEvaluator\n",
    "\n",
    "# Drop duplicates\n",
    "df_idealista = df_idealista.dropDuplicates()\n",
    "\n",
    "# Prepare the DataFrame\n",
    "df_idealista = df_idealista.dropna(subset=['price', 'size', 'rooms', 'bathrooms', 'status', 'exterior'])\n",
    "df_idealista = df_idealista.withColumn(\"price\", col(\"price\").cast(\"double\")) \\\n",
    "                           .withColumn(\"size\", col(\"size\").cast(\"double\")) \\\n",
    "                           .withColumn(\"rooms\", col(\"rooms\").cast(\"integer\")) \\\n",
    "                           .withColumn(\"bathrooms\", col(\"bathrooms\").cast(\"integer\")) \\\n",
    "                           .withColumn(\"exterior\", col(\"exterior\").cast(\"integer\"))   # exterior: true is mapped to 1 and false is mapped to 0\n",
    "\n",
    "# StringIndexer and OneHotEncoder for 'status'\n",
    "# Ensure no column name conflicts\n",
    "if \"status_indexed\" in df_idealista.columns:\n",
    "    df_idealista = df_idealista.drop(\"status_indexed\")\n",
    "status_indexer = StringIndexer(inputCol=\"status\", outputCol=\"status_indexed\")\n",
    "df_idealista = status_indexer.fit(df_idealista).transform(df_idealista)\n",
    "\n",
    "if \"status_encoded\" in df_idealista.columns:\n",
    "    df_idealista = df_idealista.drop(\"status_encoded\")\n",
    "status_encoder = OneHotEncoder(inputCols=[\"status_indexed\"], outputCols=[\"status_encoded\"])\n",
    "df_idealista = status_encoder.fit(df_idealista).transform(df_idealista)\n",
    "\n",
    "\n",
    "\n",
    "if \"features\" in df_idealista.columns:\n",
    "    df_idealista = df_idealista.drop(\"features\")\n",
    "assembler = VectorAssembler(inputCols=[\"size\", \"rooms\", \"bathrooms\", \"status_encoded\", \"exterior\"], outputCol=\"features\")\n",
    "df_idealista = assembler.transform(df_idealista)\n",
    "\n",
    "# Linear Regression Model\n",
    "lr = LinearRegression(featuresCol=\"features\", labelCol=\"price\")\n",
    "\n",
    "# Data split for training and testing\n",
    "train_data, test_data = df_idealista.randomSplit([0.8, 0.2], seed=1234)\n",
    "\n",
    "# Model training\n",
    "lr_model = lr.fit(train_data)\n",
    "\n",
    "# Making predictions\n",
    "predictions = lr_model.transform(test_data)\n",
    "\n",
    "# Model evaluation\n",
    "evaluator = RegressionEvaluator(labelCol=\"price\", predictionCol=\"prediction\", metricName=\"rmse\")\n",
    "rmse = evaluator.evaluate(predictions)\n",
    "print(\"Root Mean Squared Error (RMSE) on test data = %g\" % rmse)\n",
    "\n",
    "# Displaying coefficients\n",
    "coefficients = lr_model.coefficients\n",
    "print(\"Coefficients:\", coefficients)"
   ],
   "id": "c94ad2e0debf2bc0",
   "outputs": [
    {
     "name": "stdout",
     "output_type": "stream",
     "text": [
      "Root Mean Squared Error (RMSE) on test data = 349028\n",
      "Coefficients: [0.450335487142948,38132.70634222065,392435.04986314743,153063.20392982973,191678.20414232666,-7540.791973886098]\n"
     ]
    }
   ],
   "execution_count": 65
  },
  {
   "metadata": {
    "ExecuteTime": {
     "end_time": "2024-06-16T10:32:40.748766Z",
     "start_time": "2024-06-16T10:32:34.629909Z"
    }
   },
   "cell_type": "code",
   "source": [
    "# scaling size \n",
    "from pyspark.sql.functions import col\n",
    "from pyspark.ml.feature import VectorAssembler, StringIndexer, OneHotEncoder, StandardScaler\n",
    "from pyspark.ml.regression import LinearRegression\n",
    "from pyspark.ml.evaluation import RegressionEvaluator\n",
    "\n",
    "# Drop duplicates based on all columns (if rows are completely identical)\n",
    "df_idealista = df_idealista.dropDuplicates()\n",
    "\n",
    "# Prepare the DataFrame\n",
    "df_idealista = df_idealista.dropna(subset=['price', 'size', 'rooms', 'bathrooms', 'status', 'exterior'])\n",
    "df_idealista = df_idealista.withColumn(\"price\", col(\"price\").cast(\"double\")) \\\n",
    "                           .withColumn(\"size\", col(\"size\").cast(\"double\")) \\\n",
    "                           .withColumn(\"rooms\", col(\"rooms\").cast(\"integer\")) \\\n",
    "                           .withColumn(\"bathrooms\", col(\"bathrooms\").cast(\"integer\")) \\\n",
    "                           .withColumn(\"exterior\", col(\"exterior\").cast(\"integer\"))\n",
    "\n",
    "\n",
    "# StringIndexer and OneHotEncoder for 'status'\n",
    "if \"status_indexed\" in df_idealista.columns:\n",
    "    df_idealista = df_idealista.drop(\"status_indexed\")\n",
    "status_indexer = StringIndexer(inputCol=\"status\", outputCol=\"status_indexed\")\n",
    "df_idealista = status_indexer.fit(df_idealista).transform(df_idealista)\n",
    "\n",
    "if \"status_encoded\" in df_idealista.columns:\n",
    "    df_idealista = df_idealista.drop(\"status_encoded\")\n",
    "status_encoder = OneHotEncoder(inputCols=[\"status_indexed\"], outputCols=[\"status_encoded\"])\n",
    "df_idealista = status_encoder.fit(df_idealista).transform(df_idealista)\n",
    "\n",
    "# Scale only the 'size' feature\n",
    "if \"size_features\" in df_idealista.columns:\n",
    "    df_idealista = df_idealista.drop(\"size_features\")\n",
    "size_assembler = VectorAssembler(inputCols=[\"size\"], outputCol=\"size_features\")\n",
    "size_df = size_assembler.transform(df_idealista)\n",
    "\n",
    "if \"scaled_size\" in df_idealista.columns:\n",
    "    df_idealista = df_idealista.drop(\"scaled_size\")\n",
    "scaler = StandardScaler(inputCol=\"size_features\", outputCol=\"scaled_size\", withStd=True, withMean=False)\n",
    "df_idealista = scaler.fit(size_df).transform(size_df)\n",
    "\n",
    "# Assemble other features\n",
    "if \"other_features\" in df_idealista.columns:\n",
    "    df_idealista = df_idealista.drop(\"other_features\")\n",
    "other_features_assembler = VectorAssembler(inputCols=[\"rooms\", \"bathrooms\", \"status_encoded\", \"exterior\"], outputCol=\"other_features\")\n",
    "df_idealista = other_features_assembler.transform(df_idealista)\n",
    "\n",
    "# Combine scaled size with other features\n",
    "if \"features\" in df_idealista.columns:\n",
    "    df_idealista = df_idealista.drop(\"features\")\n",
    "final_assembler = VectorAssembler(inputCols=[\"scaled_size\", \"other_features\"], outputCol=\"features\")\n",
    "df_idealista = final_assembler.transform(df_idealista)\n",
    "\n",
    "# Linear Regression Model using combined features\n",
    "lr = LinearRegression(featuresCol=\"features\", labelCol=\"price\")\n",
    "\n",
    "# Split the data\n",
    "train_data, test_data = df_idealista.randomSplit([0.8, 0.2], seed=1234)\n",
    "\n",
    "# Train the model\n",
    "lr_model = lr.fit(train_data)\n",
    "\n",
    "# Make predictions\n",
    "predictions = lr_model.transform(test_data)\n",
    "\n",
    "# Evaluate the model\n",
    "evaluator = RegressionEvaluator(labelCol=\"price\", predictionCol=\"prediction\", metricName=\"rmse\")\n",
    "rmse = evaluator.evaluate(predictions)\n",
    "print(\"Root Mean Squared Error (RMSE) on test data = %g\" % rmse)\n",
    "\n",
    "# Display coefficients\n",
    "coefficients = lr_model.coefficients\n",
    "print(\"Coefficients:\", coefficients)"
   ],
   "id": "84561ac656732e7",
   "outputs": [
    {
     "name": "stdout",
     "output_type": "stream",
     "text": [
      "Root Mean Squared Error (RMSE) on test data = 402209\n",
      "Coefficients: [774.4352699404948,37961.09367814587,383370.4673475959,141776.6014140781,178639.25549421436,-8690.246685712456]\n"
     ]
    }
   ],
   "execution_count": 64
  }
 ],
 "metadata": {
  "kernelspec": {
   "display_name": "Python 3",
   "language": "python",
   "name": "python3"
  },
  "language_info": {
   "codemirror_mode": {
    "name": "ipython",
    "version": 2
   },
   "file_extension": ".py",
   "mimetype": "text/x-python",
   "name": "python",
   "nbconvert_exporter": "python",
   "pygments_lexer": "ipython2",
   "version": "2.7.6"
  }
 },
 "nbformat": 4,
 "nbformat_minor": 5
}
